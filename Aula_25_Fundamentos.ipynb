{
  "cells": [
    {
      "cell_type": "markdown",
      "metadata": {
        "id": "view-in-github",
        "colab_type": "text"
      },
      "source": [
        "<a href=\"https://colab.research.google.com/github/Psousace/Udemy/blob/main/Aula_25_Fundamentos.ipynb\" target=\"_parent\"><img src=\"https://colab.research.google.com/assets/colab-badge.svg\" alt=\"Open In Colab\"/></a>"
      ]
    },
    {
      "cell_type": "markdown",
      "id": "1c9b4804",
      "metadata": {
        "id": "1c9b4804"
      },
      "source": [
        "# Fundamentos Python"
      ]
    },
    {
      "cell_type": "markdown",
      "id": "84f77334",
      "metadata": {
        "id": "84f77334"
      },
      "source": [
        "## Primeiros Exemplos"
      ]
    },
    {
      "cell_type": "code",
      "execution_count": null,
      "id": "4036989a",
      "metadata": {
        "scrolled": true,
        "id": "4036989a",
        "outputId": "cf4651e5-78fd-4808-92b8-63ca56802c71"
      },
      "outputs": [
        {
          "name": "stdout",
          "output_type": "stream",
          "text": [
            "Primeiro programa\n"
          ]
        }
      ],
      "source": [
        "print('Primeiro programa')"
      ]
    },
    {
      "cell_type": "code",
      "execution_count": null,
      "id": "4e694837",
      "metadata": {
        "id": "4e694837",
        "outputId": "b68eb284-22e7-4623-bc4d-72c2f4854c7f"
      },
      "outputs": [
        {
          "name": "stdout",
          "output_type": "stream",
          "text": [
            "Primeiro programa\n"
          ]
        }
      ],
      "source": [
        "print(\n",
        "    'Primeiro programa')"
      ]
    },
    {
      "cell_type": "code",
      "execution_count": null,
      "id": "1cdb9cdd",
      "metadata": {
        "scrolled": false,
        "id": "1cdb9cdd",
        "outputId": "ea92c7de-db94-4153-f145-28382d42f377"
      },
      "outputs": [
        {
          "data": {
            "text/plain": [
              "3"
            ]
          },
          "execution_count": 3,
          "metadata": {},
          "output_type": "execute_result"
        }
      ],
      "source": [
        "1\\\n",
        " +2"
      ]
    },
    {
      "cell_type": "code",
      "execution_count": null,
      "id": "1bee2fd9",
      "metadata": {
        "scrolled": true,
        "id": "1bee2fd9",
        "outputId": "970e9ef0-5621-48f9-8f04-e0ff65d4e4f7"
      },
      "outputs": [
        {
          "name": "stdout",
          "output_type": "stream",
          "text": [
            "Help on built-in function print in module builtins:\n",
            "\n",
            "print(*args, sep=' ', end='\\n', file=None, flush=False)\n",
            "    Prints the values to a stream, or to sys.stdout by default.\n",
            "    \n",
            "    sep\n",
            "      string inserted between values, default a space.\n",
            "    end\n",
            "      string appended after the last value, default a newline.\n",
            "    file\n",
            "      a file-like object (stream); defaults to the current sys.stdout.\n",
            "    flush\n",
            "      whether to forcibly flush the stream.\n",
            "\n"
          ]
        }
      ],
      "source": [
        "help(print)"
      ]
    },
    {
      "cell_type": "code",
      "execution_count": null,
      "id": "d8cca656",
      "metadata": {
        "scrolled": true,
        "id": "d8cca656",
        "outputId": "ebc10beb-c224-439f-c59b-f3d0b39b7d60"
      },
      "outputs": [
        {
          "data": {
            "text/plain": [
              "15"
            ]
          },
          "execution_count": 5,
          "metadata": {},
          "output_type": "execute_result"
        }
      ],
      "source": [
        "1+2+3\n",
        "4+5+6"
      ]
    },
    {
      "cell_type": "code",
      "execution_count": null,
      "id": "7b45e1f7",
      "metadata": {
        "scrolled": true,
        "id": "7b45e1f7",
        "outputId": "90b91b80-2b3c-4f36-f7f6-e5879be2c393"
      },
      "outputs": [
        {
          "name": "stdout",
          "output_type": "stream",
          "text": [
            "6\n",
            "15\n"
          ]
        }
      ],
      "source": [
        "print(1+2+3)\n",
        "print(4+5+6)"
      ]
    },
    {
      "cell_type": "markdown",
      "id": "dd11f860",
      "metadata": {
        "id": "dd11f860"
      },
      "source": [
        "# Tipos Básicos"
      ]
    },
    {
      "cell_type": "code",
      "execution_count": null,
      "id": "102d09f6",
      "metadata": {
        "scrolled": true,
        "id": "102d09f6",
        "outputId": "8158f7e4-f9ad-4128-fe85-815697718256"
      },
      "outputs": [
        {
          "name": "stdout",
          "output_type": "stream",
          "text": [
            "True\n",
            "False\n",
            "4.2\n",
            "estou aqui\n",
            "estou aqui\n",
            "vc e muito muito muito legal\n",
            "[1, 2, 3]\n",
            "{'nome': 'Pedro', 'idade': 22}\n",
            "None\n"
          ]
        }
      ],
      "source": [
        "print(True)\n",
        "print(False)\n",
        "print(1.2+3)\n",
        "print('estou aqui')\n",
        "print(\"estou aqui\")\n",
        "print('vc e '+ 3 * 'muito ' + 'legal')\n",
        "# print(3 + '3')==> ambiguidade\n",
        "print([1,2,3])\n",
        "print({'nome':'Pedro','idade':22})\n",
        "print(None)"
      ]
    },
    {
      "cell_type": "markdown",
      "id": "d77553c2",
      "metadata": {
        "id": "d77553c2"
      },
      "source": [
        "# Variaveis"
      ]
    },
    {
      "cell_type": "code",
      "execution_count": null,
      "id": "da52657f",
      "metadata": {
        "scrolled": false,
        "id": "da52657f",
        "outputId": "617d32f8-3167-45bf-ad89-f8ce88c1c0f6"
      },
      "outputs": [
        {
          "name": "stdout",
          "output_type": "stream",
          "text": [
            "15.2\n",
            "agora sou string\n"
          ]
        },
        {
          "data": {
            "text/plain": [
              "5.2"
            ]
          },
          "execution_count": 14,
          "metadata": {},
          "output_type": "execute_result"
        }
      ],
      "source": [
        "a=10\n",
        "b=5.2\n",
        "print(a+b)\n",
        "\n",
        "a = 'agora sou string'\n",
        "print(a)\n",
        "a\n",
        "b"
      ]
    },
    {
      "cell_type": "markdown",
      "id": "50415dde",
      "metadata": {
        "id": "50415dde"
      },
      "source": [
        "# Comentários"
      ]
    },
    {
      "cell_type": "code",
      "execution_count": null,
      "id": "8b5c963c",
      "metadata": {
        "scrolled": true,
        "id": "8b5c963c",
        "outputId": "ad9418d8-09a9-447e-991c-0db54394ab35"
      },
      "outputs": [
        {
          "name": "stdout",
          "output_type": "stream",
          "text": [
            "994.25\n",
            "fim de verdade\n"
          ]
        }
      ],
      "source": [
        "# Minhas Variaveis\n",
        "salario = 3450.45\n",
        "despesas = 2456.2\n",
        "\n",
        "'''\n",
        "A ideia e calcular quanto sobra\n",
        "'''\n",
        "print(salario-despesas)\n",
        "\n",
        "# print('Fim')\n",
        "print('fim de verdade') # comentário tbm vale aqui"
      ]
    },
    {
      "cell_type": "markdown",
      "id": "b45f82eb",
      "metadata": {
        "id": "b45f82eb"
      },
      "source": [
        "# Operadores Aritiméticos"
      ]
    },
    {
      "cell_type": "code",
      "execution_count": null,
      "id": "592171ae",
      "metadata": {
        "scrolled": true,
        "id": "592171ae",
        "outputId": "363d1c53-f77d-41d8-abb2-3451c483aaf8"
      },
      "outputs": [
        {
          "name": "stdout",
          "output_type": "stream",
          "text": [
            "5\n",
            "-3\n",
            "10.6\n",
            "3.1333333333333333\n",
            "3.0\n",
            "256\n",
            "1\n",
            "24\n"
          ]
        }
      ],
      "source": [
        "print(2+3)\n",
        "print(4-7)\n",
        "print(2*5.3)\n",
        "print(9.4/3)\n",
        "print(9.4//3)\n",
        "print(2**8)\n",
        "print(10 % 3)\n",
        "a=12\n",
        "b=a\n",
        "print(a+b)"
      ]
    },
    {
      "cell_type": "code",
      "execution_count": null,
      "id": "e136ca3a",
      "metadata": {
        "scrolled": true,
        "id": "e136ca3a",
        "outputId": "1a0cfa5d-0b05-4c65-aa0f-07c928ca3cc4"
      },
      "outputs": [
        {
          "data": {
            "text/plain": [
              "71.18491790925822"
            ]
          },
          "execution_count": 9,
          "metadata": {},
          "output_type": "execute_result"
        }
      ],
      "source": [
        "# Minhas Variaveis\n",
        "salario = 3450.45\n",
        "despesas = 2456.2\n",
        "\n",
        "# Resposta do desafio\n",
        "percentual_comprometido = despesas / salario * 100\n",
        "percentual_comprometido"
      ]
    },
    {
      "cell_type": "markdown",
      "id": "79342fff",
      "metadata": {
        "id": "79342fff"
      },
      "source": [
        "# Operadores Relacionais"
      ]
    },
    {
      "cell_type": "code",
      "execution_count": null,
      "id": "fc7cf9ee",
      "metadata": {
        "id": "fc7cf9ee",
        "outputId": "1979b112-8ff2-4874-bb5e-5fc1a885644a"
      },
      "outputs": [
        {
          "data": {
            "text/plain": [
              "False"
            ]
          },
          "execution_count": 11,
          "metadata": {},
          "output_type": "execute_result"
        }
      ],
      "source": [
        "3>4"
      ]
    },
    {
      "cell_type": "code",
      "execution_count": null,
      "id": "eacc0117",
      "metadata": {
        "scrolled": true,
        "id": "eacc0117",
        "outputId": "e166cb52-e248-4df1-d288-0bf228a7e007"
      },
      "outputs": [
        {
          "data": {
            "text/plain": [
              "True"
            ]
          },
          "execution_count": 12,
          "metadata": {},
          "output_type": "execute_result"
        }
      ],
      "source": [
        "4>=3"
      ]
    },
    {
      "cell_type": "code",
      "execution_count": null,
      "id": "d73b69d1",
      "metadata": {
        "id": "d73b69d1",
        "outputId": "dc0f618a-cf84-4f55-d560-14ef32504fc6"
      },
      "outputs": [
        {
          "data": {
            "text/plain": [
              "True"
            ]
          },
          "execution_count": 13,
          "metadata": {},
          "output_type": "execute_result"
        }
      ],
      "source": [
        "1<2"
      ]
    },
    {
      "cell_type": "code",
      "execution_count": null,
      "id": "e79c28f5",
      "metadata": {
        "id": "e79c28f5",
        "outputId": "6f8fd93e-c625-4047-b944-39b66fadbd52"
      },
      "outputs": [
        {
          "data": {
            "text/plain": [
              "False"
            ]
          },
          "execution_count": 14,
          "metadata": {},
          "output_type": "execute_result"
        }
      ],
      "source": [
        "3<=1"
      ]
    },
    {
      "cell_type": "code",
      "execution_count": null,
      "id": "71c41cd6",
      "metadata": {
        "id": "71c41cd6",
        "outputId": "02c5d837-32be-46fc-e07a-b9e64ec84219"
      },
      "outputs": [
        {
          "data": {
            "text/plain": [
              "True"
            ]
          },
          "execution_count": 15,
          "metadata": {},
          "output_type": "execute_result"
        }
      ],
      "source": [
        "3!=2 # diferente"
      ]
    },
    {
      "cell_type": "code",
      "execution_count": null,
      "id": "7d3a68e6",
      "metadata": {
        "id": "7d3a68e6",
        "outputId": "1c02a3d8-1fb7-40fc-f789-1c15787aa503"
      },
      "outputs": [
        {
          "data": {
            "text/plain": [
              "True"
            ]
          },
          "execution_count": 16,
          "metadata": {},
          "output_type": "execute_result"
        }
      ],
      "source": [
        "3==3"
      ]
    },
    {
      "cell_type": "code",
      "execution_count": null,
      "id": "9f2a6e0c",
      "metadata": {
        "id": "9f2a6e0c",
        "outputId": "8043cceb-18ec-46e8-96f1-4ec2b9ba1ce6"
      },
      "outputs": [
        {
          "data": {
            "text/plain": [
              "False"
            ]
          },
          "execution_count": 17,
          "metadata": {},
          "output_type": "execute_result"
        }
      ],
      "source": [
        "2=='2'"
      ]
    },
    {
      "cell_type": "markdown",
      "id": "27ed97b8",
      "metadata": {
        "id": "27ed97b8"
      },
      "source": [
        "# Operadores de atribuição"
      ]
    },
    {
      "cell_type": "code",
      "execution_count": null,
      "id": "e0338adf",
      "metadata": {
        "scrolled": false,
        "id": "e0338adf",
        "outputId": "c7894cd3-7969-471b-f433-e91d34423792"
      },
      "outputs": [
        {
          "name": "stdout",
          "output_type": "stream",
          "text": [
            "10\n",
            "15\n",
            "12\n",
            "24\n",
            "6.0\n",
            "2.0\n",
            "256.0\n",
            "1.0\n"
          ]
        }
      ],
      "source": [
        "a=3\n",
        "a=a+7\n",
        "print(a)\n",
        "\n",
        "a+=5 # a = a + 5\n",
        "print(a)\n",
        "\n",
        "a -= 3\n",
        "print(a)\n",
        "\n",
        "a *= 2\n",
        "print(a)\n",
        "\n",
        "a /= 4\n",
        "print(a)\n",
        "\n",
        "a %= 4\n",
        "print(a)\n",
        "\n",
        "a **= 8\n",
        "print(a)\n",
        "\n",
        "a //= 256\n",
        "print(a)"
      ]
    },
    {
      "cell_type": "markdown",
      "id": "4313b304",
      "metadata": {
        "id": "4313b304"
      },
      "source": [
        "# Operadores Lógicos"
      ]
    },
    {
      "cell_type": "code",
      "execution_count": null,
      "id": "0bfba9e9",
      "metadata": {
        "scrolled": false,
        "id": "0bfba9e9",
        "outputId": "8f8ce10a-fe33-4a0a-b3c1-1175953ad144"
      },
      "outputs": [
        {
          "data": {
            "text/plain": [
              "True"
            ]
          },
          "execution_count": 40,
          "metadata": {},
          "output_type": "execute_result"
        }
      ],
      "source": [
        "True or False\n",
        "7 != 3 and 2 > 3\n",
        "# Tabela Verdade do AND\n",
        "True and True\n",
        "\n",
        "True and False\n",
        "\n",
        "False and True"
      ]
    },
    {
      "cell_type": "code",
      "execution_count": null,
      "id": "49602dd6",
      "metadata": {
        "id": "49602dd6",
        "outputId": "41766d69-5b84-4326-a67b-41199a7c47d0"
      },
      "outputs": [
        {
          "data": {
            "text/plain": [
              "False"
            ]
          },
          "execution_count": 43,
          "metadata": {},
          "output_type": "execute_result"
        }
      ],
      "source": [
        "False and False"
      ]
    },
    {
      "cell_type": "code",
      "execution_count": null,
      "id": "7a94c7fe",
      "metadata": {
        "scrolled": true,
        "id": "7a94c7fe",
        "outputId": "51b03610-7bb0-4503-9882-3683fb6c9705"
      },
      "outputs": [
        {
          "data": {
            "text/plain": [
              "True"
            ]
          },
          "execution_count": 44,
          "metadata": {},
          "output_type": "execute_result"
        }
      ],
      "source": [
        "True and True and True and True and True and True"
      ]
    },
    {
      "cell_type": "code",
      "execution_count": null,
      "id": "5b7029da",
      "metadata": {
        "scrolled": true,
        "id": "5b7029da",
        "outputId": "9acb8a6f-120c-4a67-de7f-217dc8cab11e"
      },
      "outputs": [
        {
          "data": {
            "text/plain": [
              "False"
            ]
          },
          "execution_count": 46,
          "metadata": {},
          "output_type": "execute_result"
        }
      ],
      "source": [
        "True and True and False and True and True and True"
      ]
    },
    {
      "cell_type": "markdown",
      "id": "047eafdd",
      "metadata": {
        "id": "047eafdd"
      },
      "source": [
        "* Tabela Verdade do OR"
      ]
    },
    {
      "cell_type": "code",
      "execution_count": null,
      "id": "75306ebf",
      "metadata": {
        "id": "75306ebf",
        "outputId": "fd1953cf-3146-44c9-b4b0-7bcb468ebc16"
      },
      "outputs": [
        {
          "data": {
            "text/plain": [
              "True"
            ]
          },
          "execution_count": 48,
          "metadata": {},
          "output_type": "execute_result"
        }
      ],
      "source": [
        "True or True"
      ]
    },
    {
      "cell_type": "code",
      "execution_count": null,
      "id": "c0dcaade",
      "metadata": {
        "id": "c0dcaade",
        "outputId": "8868c24e-10ad-4917-de15-dead63f8e6a0"
      },
      "outputs": [
        {
          "data": {
            "text/plain": [
              "True"
            ]
          },
          "execution_count": 49,
          "metadata": {},
          "output_type": "execute_result"
        }
      ],
      "source": [
        "True or Falsa"
      ]
    },
    {
      "cell_type": "code",
      "execution_count": null,
      "id": "ab76b493",
      "metadata": {
        "scrolled": true,
        "id": "ab76b493",
        "outputId": "022a6fd1-addf-4293-c5b4-c9efebbdf28c"
      },
      "outputs": [
        {
          "data": {
            "text/plain": [
              "True"
            ]
          },
          "execution_count": 50,
          "metadata": {},
          "output_type": "execute_result"
        }
      ],
      "source": [
        "False or True"
      ]
    },
    {
      "cell_type": "code",
      "execution_count": null,
      "id": "bc896d07",
      "metadata": {
        "id": "bc896d07",
        "outputId": "1091f2a6-d1c1-4125-9697-a614b9049273"
      },
      "outputs": [
        {
          "data": {
            "text/plain": [
              "False"
            ]
          },
          "execution_count": 52,
          "metadata": {},
          "output_type": "execute_result"
        }
      ],
      "source": [
        "False or False"
      ]
    },
    {
      "cell_type": "code",
      "execution_count": null,
      "id": "82dd2cb5",
      "metadata": {
        "id": "82dd2cb5",
        "outputId": "06e10a6a-4bee-4d62-ed49-9eaf34b565f4"
      },
      "outputs": [
        {
          "data": {
            "text/plain": [
              "False"
            ]
          },
          "execution_count": 55,
          "metadata": {},
          "output_type": "execute_result"
        }
      ],
      "source": [
        "False or False or False or False or False or False"
      ]
    },
    {
      "cell_type": "code",
      "execution_count": null,
      "id": "09387d43",
      "metadata": {
        "scrolled": true,
        "id": "09387d43",
        "outputId": "dcd1d9c6-7135-469e-fb74-e8dfcaabc02b"
      },
      "outputs": [
        {
          "data": {
            "text/plain": [
              "True"
            ]
          },
          "execution_count": 56,
          "metadata": {},
          "output_type": "execute_result"
        }
      ],
      "source": [
        "False or False or True or False or False or False"
      ]
    },
    {
      "cell_type": "markdown",
      "id": "a8bec654",
      "metadata": {
        "id": "a8bec654"
      },
      "source": [
        "* Tabela Verdade do XOR"
      ]
    },
    {
      "cell_type": "code",
      "execution_count": null,
      "id": "6c485054",
      "metadata": {
        "id": "6c485054",
        "outputId": "b472e403-c427-4792-f642-799d7418d1d8"
      },
      "outputs": [
        {
          "data": {
            "text/plain": [
              "False"
            ]
          },
          "execution_count": 57,
          "metadata": {},
          "output_type": "execute_result"
        }
      ],
      "source": [
        "True != True"
      ]
    },
    {
      "cell_type": "code",
      "execution_count": null,
      "id": "8a9c44ac",
      "metadata": {
        "id": "8a9c44ac",
        "outputId": "f0614fe2-6f5e-418b-bab8-c2043e20a4a2"
      },
      "outputs": [
        {
          "data": {
            "text/plain": [
              "True"
            ]
          },
          "execution_count": 58,
          "metadata": {},
          "output_type": "execute_result"
        }
      ],
      "source": [
        "True != False"
      ]
    },
    {
      "cell_type": "code",
      "execution_count": null,
      "id": "d19f1825",
      "metadata": {
        "id": "d19f1825",
        "outputId": "ba423967-bb38-47f4-9a7d-54597df9092c"
      },
      "outputs": [
        {
          "data": {
            "text/plain": [
              "True"
            ]
          },
          "execution_count": 59,
          "metadata": {},
          "output_type": "execute_result"
        }
      ],
      "source": [
        "False != True"
      ]
    },
    {
      "cell_type": "code",
      "execution_count": null,
      "id": "05dba059",
      "metadata": {
        "id": "05dba059",
        "outputId": "00fc8518-5692-451f-c557-084eb73ed9ca"
      },
      "outputs": [
        {
          "data": {
            "text/plain": [
              "False"
            ]
          },
          "execution_count": 60,
          "metadata": {},
          "output_type": "execute_result"
        }
      ],
      "source": [
        "False != False"
      ]
    },
    {
      "cell_type": "markdown",
      "id": "bd13b5d0",
      "metadata": {
        "id": "bd13b5d0"
      },
      "source": [
        "* Operador Negação (unário)"
      ]
    },
    {
      "cell_type": "code",
      "execution_count": null,
      "id": "6a323451",
      "metadata": {
        "id": "6a323451",
        "outputId": "220b8387-6e30-4549-fe46-da6d6016dd83"
      },
      "outputs": [
        {
          "data": {
            "text/plain": [
              "False"
            ]
          },
          "execution_count": 62,
          "metadata": {},
          "output_type": "execute_result"
        }
      ],
      "source": [
        "not True"
      ]
    },
    {
      "cell_type": "code",
      "execution_count": null,
      "id": "2f4dc3bc",
      "metadata": {
        "id": "2f4dc3bc",
        "outputId": "042ce20b-0783-4c7d-8fe5-4a6e35aa28a7"
      },
      "outputs": [
        {
          "data": {
            "text/plain": [
              "True"
            ]
          },
          "execution_count": 63,
          "metadata": {},
          "output_type": "execute_result"
        }
      ],
      "source": [
        "not False"
      ]
    },
    {
      "cell_type": "code",
      "execution_count": null,
      "id": "990c3be6",
      "metadata": {
        "id": "990c3be6",
        "outputId": "12a12624-e313-4e40-e340-bc81a352ca9e"
      },
      "outputs": [
        {
          "data": {
            "text/plain": [
              "True"
            ]
          },
          "execution_count": 64,
          "metadata": {},
          "output_type": "execute_result"
        }
      ],
      "source": [
        "not 0"
      ]
    },
    {
      "cell_type": "code",
      "execution_count": null,
      "id": "d7d71695",
      "metadata": {
        "id": "d7d71695",
        "outputId": "fbd6a6f8-db7a-4c91-cea6-b61610fbc240"
      },
      "outputs": [
        {
          "data": {
            "text/plain": [
              "False"
            ]
          },
          "execution_count": 65,
          "metadata": {},
          "output_type": "execute_result"
        }
      ],
      "source": [
        "not 1"
      ]
    },
    {
      "cell_type": "code",
      "execution_count": null,
      "id": "c20ff595",
      "metadata": {
        "id": "c20ff595",
        "outputId": "8bf632b4-c09c-4eb3-9fe8-6117189c855d"
      },
      "outputs": [
        {
          "data": {
            "text/plain": [
              "True"
            ]
          },
          "execution_count": 66,
          "metadata": {},
          "output_type": "execute_result"
        }
      ],
      "source": [
        "not not -1"
      ]
    },
    {
      "cell_type": "code",
      "execution_count": null,
      "id": "1a2eed88",
      "metadata": {
        "id": "1a2eed88",
        "outputId": "6612278f-4ca2-40b1-f0a3-d4953b539a9d"
      },
      "outputs": [
        {
          "data": {
            "text/plain": [
              "True"
            ]
          },
          "execution_count": 67,
          "metadata": {},
          "output_type": "execute_result"
        }
      ],
      "source": [
        "not not True"
      ]
    },
    {
      "cell_type": "markdown",
      "id": "1789fef8",
      "metadata": {
        "id": "1789fef8"
      },
      "source": [
        "* Cuidado!"
      ]
    },
    {
      "cell_type": "code",
      "execution_count": null,
      "id": "550d6f28",
      "metadata": {
        "id": "550d6f28",
        "outputId": "8fb82487-0e97-4cae-9b02-51ac215ba5e0"
      },
      "outputs": [
        {
          "data": {
            "text/plain": [
              "True"
            ]
          },
          "execution_count": 69,
          "metadata": {},
          "output_type": "execute_result"
        }
      ],
      "source": [
        "True & True"
      ]
    },
    {
      "cell_type": "code",
      "execution_count": null,
      "id": "464a92fa",
      "metadata": {
        "id": "464a92fa",
        "outputId": "bd6259d3-c5aa-49c5-db1b-ca60a236ad9b"
      },
      "outputs": [
        {
          "data": {
            "text/plain": [
              "False"
            ]
          },
          "execution_count": 70,
          "metadata": {},
          "output_type": "execute_result"
        }
      ],
      "source": [
        "True & False"
      ]
    },
    {
      "cell_type": "code",
      "execution_count": null,
      "id": "9a3ce2de",
      "metadata": {
        "id": "9a3ce2de",
        "outputId": "5bbdcf22-eb77-4b1f-b005-1d42c6248a6d"
      },
      "outputs": [
        {
          "data": {
            "text/plain": [
              "True"
            ]
          },
          "execution_count": 71,
          "metadata": {},
          "output_type": "execute_result"
        }
      ],
      "source": [
        "False | True"
      ]
    },
    {
      "cell_type": "code",
      "execution_count": null,
      "id": "7d65b572",
      "metadata": {
        "id": "7d65b572",
        "outputId": "2e39bec6-9ea5-4095-eba7-7f19ab8385b3"
      },
      "outputs": [
        {
          "data": {
            "text/plain": [
              "True"
            ]
          },
          "execution_count": 72,
          "metadata": {},
          "output_type": "execute_result"
        }
      ],
      "source": [
        "True ^ False"
      ]
    },
    {
      "cell_type": "code",
      "execution_count": null,
      "id": "5b8f83f5",
      "metadata": {
        "scrolled": true,
        "id": "5b8f83f5",
        "outputId": "128781f1-605b-4c3b-be19-f49991106970"
      },
      "outputs": [
        {
          "data": {
            "text/plain": [
              "2"
            ]
          },
          "execution_count": 73,
          "metadata": {},
          "output_type": "execute_result"
        }
      ],
      "source": [
        "# AND Bit-a-bit\n",
        "# 3 = 11\n",
        "# 2 = 10\n",
        "# _ = 10\n",
        "3 & 2"
      ]
    },
    {
      "cell_type": "code",
      "execution_count": null,
      "id": "d4dd7912",
      "metadata": {
        "id": "d4dd7912",
        "outputId": "5e20bead-44d0-4c9e-8d36-e6d919b8d9da"
      },
      "outputs": [
        {
          "data": {
            "text/plain": [
              "3"
            ]
          },
          "execution_count": 74,
          "metadata": {},
          "output_type": "execute_result"
        }
      ],
      "source": [
        "# OR Bit-a-bit\n",
        "# 3 = 11\n",
        "# 2 = 10\n",
        "# _ = 11\n",
        "3 | 2"
      ]
    },
    {
      "cell_type": "code",
      "execution_count": null,
      "id": "7fc91897",
      "metadata": {
        "id": "7fc91897",
        "outputId": "75f57e74-4524-4b26-cf39-8c29125e7fee"
      },
      "outputs": [
        {
          "data": {
            "text/plain": [
              "1"
            ]
          },
          "execution_count": 75,
          "metadata": {},
          "output_type": "execute_result"
        }
      ],
      "source": [
        "# XOR Bit-a-bit\n",
        "# 3 = 11\n",
        "# 2 = 10\n",
        "# _ = 01\n",
        "3 ^ 2"
      ]
    },
    {
      "cell_type": "code",
      "execution_count": null,
      "id": "b2df7857",
      "metadata": {
        "id": "b2df7857"
      },
      "outputs": [],
      "source": [
        "# um pouco de realidade"
      ]
    },
    {
      "cell_type": "code",
      "execution_count": null,
      "id": "85d5608e",
      "metadata": {
        "id": "85d5608e"
      },
      "outputs": [],
      "source": [
        "saldo = 1000\n",
        "salario = 4000\n",
        "despesas = 3967"
      ]
    },
    {
      "cell_type": "code",
      "execution_count": null,
      "id": "874ac9d1",
      "metadata": {
        "scrolled": true,
        "id": "874ac9d1",
        "outputId": "adc04512-df54-4d03-9ac3-99dc99bbd6be"
      },
      "outputs": [
        {
          "data": {
            "text/plain": [
              "False"
            ]
          },
          "execution_count": 81,
          "metadata": {},
          "output_type": "execute_result"
        }
      ],
      "source": [
        "    meta = saldo > 0 and salario - despesas >= 0.2 * salario\n",
        "    meta"
      ]
    },
    {
      "cell_type": "code",
      "execution_count": null,
      "id": "ea81ddfc",
      "metadata": {
        "scrolled": true,
        "id": "ea81ddfc",
        "outputId": "3120c2a0-1037-485e-cbf5-cd498c755db3"
      },
      "outputs": [
        {
          "data": {
            "text/plain": [
              "False"
            ]
          },
          "execution_count": 83,
          "metadata": {},
          "output_type": "execute_result"
        }
      ],
      "source": [
        "saldo_positivo =  saldo > 0\n",
        "despesas_controladas = salario - despesas >= 0.2 * salario\n",
        "meta = saldo_positivo and despesas_controladas\n",
        "meta"
      ]
    },
    {
      "cell_type": "code",
      "execution_count": null,
      "id": "526017de",
      "metadata": {
        "id": "526017de",
        "outputId": "40119d16-5376-4f38-a44f-3a86b3d9950f"
      },
      "outputs": [
        {
          "name": "stdout",
          "output_type": "stream",
          "text": [
            "Tv50=False Tv32=True Sorvete=True Saudavel=False\n"
          ]
        }
      ],
      "source": [
        "# Desafio Operadores Lógicos\n",
        "\n",
        "# Os Trabalhos\n",
        "trabalho_terca = True\n",
        "trabalho_quinta = False\n",
        "\n",
        "\"\"\"\n",
        "- confirmado os 2: TV 50 + Sorvete\n",
        "- confirmado apenas 1: TV 32 + Sorvete\n",
        "- nenhum confirmado; Fica em casa\n",
        "\"\"\"\n",
        "tv_50 = trabalho_terca and trabalho_quinta\n",
        "sorvete = trabalho_terca or trabalho_quinta\n",
        "tv_32 = trabalho_terca != trabalho_quinta\n",
        "mais_saudavel = not sorvete\n",
        "\n",
        "print('Tv50={} Tv32={} Sorvete={} Saudavel={}'\n",
        "      .format(tv_50, tv_32, sorvete, mais_saudavel))"
      ]
    },
    {
      "cell_type": "code",
      "execution_count": null,
      "id": "a4287e55",
      "metadata": {
        "id": "a4287e55"
      },
      "outputs": [],
      "source": []
    }
  ],
  "metadata": {
    "kernelspec": {
      "display_name": "Python 3 (ipykernel)",
      "language": "python",
      "name": "python3"
    },
    "language_info": {
      "codemirror_mode": {
        "name": "ipython",
        "version": 3
      },
      "file_extension": ".py",
      "mimetype": "text/x-python",
      "name": "python",
      "nbconvert_exporter": "python",
      "pygments_lexer": "ipython3",
      "version": "3.11.4"
    },
    "colab": {
      "provenance": [],
      "include_colab_link": true
    }
  },
  "nbformat": 4,
  "nbformat_minor": 5
}