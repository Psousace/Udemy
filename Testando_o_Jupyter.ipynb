{
  "cells": [
    {
      "cell_type": "markdown",
      "metadata": {
        "id": "view-in-github",
        "colab_type": "text"
      },
      "source": [
        "<a href=\"https://colab.research.google.com/github/Psousace/Udemy/blob/main/Testando_o_Jupyter.ipynb\" target=\"_parent\"><img src=\"https://colab.research.google.com/assets/colab-badge.svg\" alt=\"Open In Colab\"/></a>"
      ]
    },
    {
      "cell_type": "code",
      "execution_count": null,
      "id": "304794a4",
      "metadata": {
        "id": "304794a4",
        "outputId": "4feffffa-a31e-480d-d57b-0cb40599127e"
      },
      "outputs": [
        {
          "data": {
            "text/plain": [
              "21"
            ]
          },
          "execution_count": 12,
          "metadata": {},
          "output_type": "execute_result"
        }
      ],
      "source": [
        "1+2+3*6"
      ]
    },
    {
      "cell_type": "code",
      "execution_count": null,
      "id": "342da3ae",
      "metadata": {
        "scrolled": true,
        "id": "342da3ae",
        "outputId": "d78c29aa-f423-4151-fa62-38cf37ea7aa3"
      },
      "outputs": [
        {
          "data": {
            "text/plain": [
              "8"
            ]
          },
          "execution_count": 7,
          "metadata": {},
          "output_type": "execute_result"
        }
      ],
      "source": [
        "2**8\n",
        "3+5"
      ]
    },
    {
      "cell_type": "code",
      "execution_count": null,
      "id": "61af4e2a",
      "metadata": {
        "id": "61af4e2a",
        "outputId": "73acbdac-da04-4bc3-8c5a-25cc676a5151"
      },
      "outputs": [
        {
          "name": "stdout",
          "output_type": "stream",
          "text": [
            "256\n",
            "8\n"
          ]
        }
      ],
      "source": [
        "print(2**8)\n",
        "print(3+5)"
      ]
    },
    {
      "cell_type": "code",
      "execution_count": null,
      "id": "8b807692",
      "metadata": {
        "scrolled": false,
        "id": "8b807692",
        "outputId": "c07d3044-e462-43e6-b16b-f8089357a918"
      },
      "outputs": [
        {
          "name": "stdout",
          "output_type": "stream",
          "text": [
            "teste jupyter\n"
          ]
        }
      ],
      "source": [
        "print('teste jupyter')"
      ]
    },
    {
      "cell_type": "code",
      "execution_count": null,
      "id": "94a93ef9",
      "metadata": {
        "scrolled": true,
        "id": "94a93ef9",
        "outputId": "cf18ecb9-dabd-4473-946f-ea049c9d83ca"
      },
      "outputs": [
        {
          "data": {
            "text/plain": [
              "1"
            ]
          },
          "execution_count": 11,
          "metadata": {},
          "output_type": "execute_result"
        }
      ],
      "source": [
        "1+2+3\n",
        "3//2"
      ]
    },
    {
      "cell_type": "markdown",
      "id": "c010efeb",
      "metadata": {
        "id": "c010efeb"
      },
      "source": [
        "# OPERADORES"
      ]
    },
    {
      "cell_type": "code",
      "execution_count": null,
      "id": "e6367525",
      "metadata": {
        "id": "e6367525",
        "outputId": "8b08bb99-1d7d-48dc-ef93-f9aef9d23aca"
      },
      "outputs": [
        {
          "data": {
            "text/plain": [
              "4"
            ]
          },
          "execution_count": 13,
          "metadata": {},
          "output_type": "execute_result"
        }
      ],
      "source": [
        "1+3"
      ]
    },
    {
      "cell_type": "code",
      "execution_count": null,
      "id": "49171b23",
      "metadata": {
        "id": "49171b23",
        "outputId": "c21f8713-8781-49d4-8144-e329451da5e7"
      },
      "outputs": [
        {
          "data": {
            "text/plain": [
              "25"
            ]
          },
          "execution_count": 14,
          "metadata": {},
          "output_type": "execute_result"
        }
      ],
      "source": [
        "5*5"
      ]
    },
    {
      "cell_type": "code",
      "execution_count": null,
      "id": "3d52906d",
      "metadata": {
        "id": "3d52906d",
        "outputId": "7b677df1-0f79-4b86-96d2-a51b6d7ba3a8"
      },
      "outputs": [
        {
          "data": {
            "text/plain": [
              "3"
            ]
          },
          "execution_count": 15,
          "metadata": {},
          "output_type": "execute_result"
        }
      ],
      "source": [
        "10//3"
      ]
    },
    {
      "cell_type": "markdown",
      "id": "19874947",
      "metadata": {
        "id": "19874947"
      },
      "source": [
        "# Estrutura de Controle"
      ]
    },
    {
      "cell_type": "code",
      "execution_count": null,
      "id": "ea3f6dd9",
      "metadata": {
        "scrolled": true,
        "id": "ea3f6dd9",
        "outputId": "95fb5b70-2c2d-41dd-b4c9-d633947ad1bd"
      },
      "outputs": [
        {
          "data": {
            "text/plain": [
              "['In',\n",
              " 'Out',\n",
              " '_',\n",
              " '_1',\n",
              " '_10',\n",
              " '_11',\n",
              " '_12',\n",
              " '_13',\n",
              " '_14',\n",
              " '_15',\n",
              " '_2',\n",
              " '_3',\n",
              " '_6',\n",
              " '_7',\n",
              " '__',\n",
              " '___',\n",
              " '__builtin__',\n",
              " '__builtins__',\n",
              " '__doc__',\n",
              " '__loader__',\n",
              " '__name__',\n",
              " '__package__',\n",
              " '__spec__',\n",
              " '_dh',\n",
              " '_i',\n",
              " '_i1',\n",
              " '_i10',\n",
              " '_i11',\n",
              " '_i12',\n",
              " '_i13',\n",
              " '_i14',\n",
              " '_i15',\n",
              " '_i16',\n",
              " '_i2',\n",
              " '_i3',\n",
              " '_i4',\n",
              " '_i5',\n",
              " '_i6',\n",
              " '_i7',\n",
              " '_i8',\n",
              " '_i9',\n",
              " '_ih',\n",
              " '_ii',\n",
              " '_iii',\n",
              " '_oh',\n",
              " 'exit',\n",
              " 'get_ipython',\n",
              " 'open',\n",
              " 'quit']"
            ]
          },
          "execution_count": 16,
          "metadata": {},
          "output_type": "execute_result"
        }
      ],
      "source": [
        "dir()"
      ]
    },
    {
      "cell_type": "code",
      "execution_count": null,
      "id": "c916a851",
      "metadata": {
        "id": "c916a851",
        "outputId": "a8816936-d178-4db2-8f62-f7cb2d049416"
      },
      "outputs": [
        {
          "name": "stdout",
          "output_type": "stream",
          "text": [
            "Help on built-in function print in module builtins:\n",
            "\n",
            "print(*args, sep=' ', end='\\n', file=None, flush=False)\n",
            "    Prints the values to a stream, or to sys.stdout by default.\n",
            "    \n",
            "    sep\n",
            "      string inserted between values, default a space.\n",
            "    end\n",
            "      string appended after the last value, default a newline.\n",
            "    file\n",
            "      a file-like object (stream); defaults to the current sys.stdout.\n",
            "    flush\n",
            "      whether to forcibly flush the stream.\n",
            "\n"
          ]
        }
      ],
      "source": [
        "help(print)"
      ]
    },
    {
      "cell_type": "code",
      "execution_count": null,
      "id": "2521521d",
      "metadata": {
        "id": "2521521d"
      },
      "outputs": [],
      "source": [
        "a=2"
      ]
    },
    {
      "cell_type": "code",
      "execution_count": null,
      "id": "d5c45c15",
      "metadata": {
        "id": "d5c45c15"
      },
      "outputs": [],
      "source": [
        "b=8"
      ]
    },
    {
      "cell_type": "code",
      "execution_count": null,
      "id": "4e8322ed",
      "metadata": {
        "id": "4e8322ed",
        "outputId": "81989447-0f21-440a-926a-42123722ceea"
      },
      "outputs": [
        {
          "data": {
            "text/plain": [
              "10"
            ]
          },
          "execution_count": 20,
          "metadata": {},
          "output_type": "execute_result"
        }
      ],
      "source": [
        "a+b"
      ]
    },
    {
      "cell_type": "code",
      "execution_count": null,
      "id": "ea32e140",
      "metadata": {
        "id": "ea32e140",
        "outputId": "292bd630-6ea9-4746-fe7f-fd433f524e02"
      },
      "outputs": [
        {
          "data": {
            "text/plain": [
              "100"
            ]
          },
          "execution_count": 21,
          "metadata": {},
          "output_type": "execute_result"
        }
      ],
      "source": [
        "_*10"
      ]
    },
    {
      "cell_type": "code",
      "execution_count": null,
      "id": "3ef33aae",
      "metadata": {
        "id": "3ef33aae",
        "outputId": "634ec12e-8299-4ae6-d2f8-06098948d5e6"
      },
      "outputs": [
        {
          "data": {
            "text/plain": [
              "20"
            ]
          },
          "execution_count": 22,
          "metadata": {},
          "output_type": "execute_result"
        }
      ],
      "source": [
        "_//5"
      ]
    },
    {
      "cell_type": "code",
      "execution_count": null,
      "id": "8e91761b",
      "metadata": {
        "id": "8e91761b",
        "outputId": "0e4ca8ee-f75f-43c5-8a6d-40df29f07f63"
      },
      "outputs": [
        {
          "name": "stdout",
          "output_type": "stream",
          "text": [
            "7 3\n"
          ]
        }
      ],
      "source": [
        "a = 3\n",
        "b = 7\n",
        "\n",
        "a,b = b,a\n",
        "print(a,b)"
      ]
    }
  ],
  "metadata": {
    "kernelspec": {
      "display_name": "Python 3 (ipykernel)",
      "language": "python",
      "name": "python3"
    },
    "language_info": {
      "codemirror_mode": {
        "name": "ipython",
        "version": 3
      },
      "file_extension": ".py",
      "mimetype": "text/x-python",
      "name": "python",
      "nbconvert_exporter": "python",
      "pygments_lexer": "ipython3",
      "version": "3.11.4"
    },
    "colab": {
      "provenance": [],
      "include_colab_link": true
    }
  },
  "nbformat": 4,
  "nbformat_minor": 5
}